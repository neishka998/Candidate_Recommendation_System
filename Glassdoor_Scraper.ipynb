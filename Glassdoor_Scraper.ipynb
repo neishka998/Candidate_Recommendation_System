{
  "nbformat": 4,
  "nbformat_minor": 0,
  "metadata": {
    "colab": {
      "name": "Web_Scrapping_Glassdoor.ipynb",
      "provenance": [],
      "collapsed_sections": [],
      "machine_shape": "hm"
    },
    "kernelspec": {
      "name": "python3",
      "display_name": "Python 3"
    },
    "language_info": {
      "name": "python"
    },
    "accelerator": "GPU"
  },
  "cells": [
    {
      "cell_type": "markdown",
      "metadata": {
        "id": "ihBjMm8BMOgN"
      },
      "source": [
        "### Glassdoor_Scrapping"
      ]
    },
    {
      "cell_type": "code",
      "metadata": {
        "colab": {
          "base_uri": "https://localhost:8080/"
        },
        "id": "F9WAAN8qIuO8",
        "outputId": "788f1be8-9a0d-49db-b7f2-97769b87a4ca"
      },
      "source": [
        "# Cloning the reposioty \n",
        "!git clone https://github.com/kelvinxuande/glassdoor-scraper.git"
      ],
      "execution_count": null,
      "outputs": [
        {
          "output_type": "stream",
          "name": "stdout",
          "text": [
            "Cloning into 'glassdoor-scraper'...\n",
            "remote: Enumerating objects: 147, done.\u001b[K\n",
            "remote: Counting objects: 100% (147/147), done.\u001b[K\n",
            "remote: Compressing objects: 100% (104/104), done.\u001b[K\n",
            "remote: Total 147 (delta 66), reused 98 (delta 36), pack-reused 0\u001b[K\n",
            "Receiving objects: 100% (147/147), 3.41 MiB | 29.38 MiB/s, done.\n",
            "Resolving deltas: 100% (66/66), done.\n"
          ]
        }
      ]
    },
    {
      "cell_type": "code",
      "metadata": {
        "colab": {
          "base_uri": "https://localhost:8080/"
        },
        "id": "l59UtrtmI7Bx",
        "outputId": "c113d86f-b21e-421d-d50e-ce5b3f42f97b"
      },
      "source": [
        "# Moving in the directory\n",
        "cd ./glassdoor-scraper/"
      ],
      "execution_count": null,
      "outputs": [
        {
          "output_type": "stream",
          "name": "stdout",
          "text": [
            "[Errno 2] No such file or directory: './glassdoor-scraper/'\n",
            "/content/glassdoor-scraper\n"
          ]
        }
      ]
    },
    {
      "cell_type": "code",
      "metadata": {
        "colab": {
          "base_uri": "https://localhost:8080/"
        },
        "id": "PaoRlaWPJIln",
        "outputId": "c01fec1c-8206-43fc-f416-e31c1d103820"
      },
      "source": [
        "# Installing all the requirements to run the scraper. \n",
        "!pip install -r requirements.txt"
      ],
      "execution_count": null,
      "outputs": [
        {
          "output_type": "stream",
          "name": "stdout",
          "text": [
            "Requirement already satisfied: beautifulsoup4 in /usr/local/lib/python3.7/dist-packages (from -r requirements.txt (line 1)) (4.6.3)\n",
            "Requirement already satisfied: bs4 in /usr/local/lib/python3.7/dist-packages (from -r requirements.txt (line 2)) (0.0.1)\n",
            "Requirement already satisfied: jsonschema in /usr/local/lib/python3.7/dist-packages (from -r requirements.txt (line 3)) (2.6.0)\n",
            "Requirement already satisfied: requests in /usr/local/lib/python3.7/dist-packages (from -r requirements.txt (line 4)) (2.23.0)\n",
            "Requirement already satisfied: urllib3 in /usr/local/lib/python3.7/dist-packages (from -r requirements.txt (line 5)) (1.24.3)\n",
            "Requirement already satisfied: enlighten in /usr/local/lib/python3.7/dist-packages (from -r requirements.txt (line 6)) (1.10.1)\n",
            "Requirement already satisfied: chardet<4,>=3.0.2 in /usr/local/lib/python3.7/dist-packages (from requests->-r requirements.txt (line 4)) (3.0.4)\n",
            "Requirement already satisfied: idna<3,>=2.5 in /usr/local/lib/python3.7/dist-packages (from requests->-r requirements.txt (line 4)) (2.10)\n",
            "Requirement already satisfied: certifi>=2017.4.17 in /usr/local/lib/python3.7/dist-packages (from requests->-r requirements.txt (line 4)) (2021.5.30)\n",
            "Requirement already satisfied: prefixed>=0.3.2 in /usr/local/lib/python3.7/dist-packages (from enlighten->-r requirements.txt (line 6)) (0.3.2)\n",
            "Requirement already satisfied: blessed>=1.17.7 in /usr/local/lib/python3.7/dist-packages (from enlighten->-r requirements.txt (line 6)) (1.19.0)\n",
            "Requirement already satisfied: six>=1.9.0 in /usr/local/lib/python3.7/dist-packages (from blessed>=1.17.7->enlighten->-r requirements.txt (line 6)) (1.15.0)\n",
            "Requirement already satisfied: wcwidth>=0.1.4 in /usr/local/lib/python3.7/dist-packages (from blessed>=1.17.7->enlighten->-r requirements.txt (line 6)) (0.2.5)\n"
          ]
        }
      ]
    },
    {
      "cell_type": "markdown",
      "metadata": {
        "id": "PteSEEZph5pA"
      },
      "source": [
        "Seniorr Data Scietist - US"
      ]
    },
    {
      "cell_type": "code",
      "metadata": {
        "colab": {
          "base_uri": "https://localhost:8080/"
        },
        "id": "Ff-ShT4NJK2I",
        "outputId": "204822b7-c1c3-421c-e269-10e8925a0a15"
      },
      "source": [
        "# Executing the main file\n",
        "# Outputs a csv file\n",
        "!python /content/glassdoor-scraper/src/main.py"
      ],
      "execution_count": null,
      "outputs": [
        {
          "output_type": "stream",
          "name": "stdout",
          "text": [
            "\n",
            "[ERROR] Assumptions invalid\n",
            "Max_jobs: 4857\n",
            "\u001b[1;1H\n",
            "\u001b[K\u001b[1;1H\u001b[1;1H\n",
            "\u001b[KTotal progress   0%|\u001b[32m\u001b[m|    0/1000 [00:10<?, 0.00 listings/s]\u001b[1;1H\u001b[1;1H\u001b[1;1H\u001b[1;1H\n",
            "[INFO] Processing page index 1: https://www.glassdoor.com/Job/senior-data-scientist-jobs-SRCH_KO0,21_IP1.htm\n",
            "[INFO] Found 30 links in page index 1\n",
            "\u001b[KListings scraped from page 100%|\u001b[34m\u001b[m| 30/30 [00:53<00:00, 0.56 listings/s]\u001b[1;1H\u001b[1;1H[INFO] Finished processing page index 1; Total number of jobs processed: 30\n",
            "\u001b[KTotal progress   3%|\u001b[32m\u001b[m|   30/1000 [01:03<33:49, 0.48 listings/s]\u001b[1;1H\u001b[1;1H\u001b[1;1H\u001b[1;1H\n",
            "[INFO] Processing page index 2: https://www.glassdoor.com/Job/senior-data-scientist-jobs-SRCH_KO0,21_IP2.htm\n",
            "[INFO] Found 30 links in page index 2\n",
            "\u001b[KListings scraped from page 100%|\u001b[34m\u001b[m| 30/30 [01:04<00:00, 0.47 listings/s]\u001b[1;1H\u001b[1;1H[INFO] Finished processing page index 2; Total number of jobs processed: 60\n",
            "\u001b[KTotal progress   6%|\u001b[32m\u001b[m|   60/1000 [02:12<34:24, 0.46 listings/s]\u001b[1;1H\u001b[1;1H\u001b[1;1H\u001b[1;1H\n",
            "[INFO] Processing page index 3: https://www.glassdoor.com/Job/senior-data-scientist-jobs-SRCH_KO0,21_IP3.htm\n",
            "[INFO] Found 30 links in page index 3\n",
            "\u001b[KListings scraped from page 100%|\u001b[34m\u001b[m| 30/30 [00:53<00:00, 0.57 listings/s]\u001b[1;1H\u001b[1;1H[INFO] Finished processing page index 3; Total number of jobs processed: 90\n",
            "\u001b[KTotal progress   9%|\u001b[32m\u001b[m|   90/1000 [03:10<31:57, 0.47 listings/s]\u001b[1;1H\u001b[1;1H\u001b[1;1H\u001b[1;1H\n",
            "[INFO] Processing page index 4: https://www.glassdoor.com/Job/senior-data-scientist-jobs-SRCH_KO0,21_IP4.htm\n",
            "[INFO] Found 30 links in page index 4\n",
            "\u001b[KListings scraped from page 100%|\u001b[34m\u001b[m| 30/30 [01:02<00:00, 0.48 listings/s]\u001b[1;1H\u001b[1;1H[INFO] Finished processing page index 4; Total number of jobs processed: 120\n",
            "\u001b[KTotal progress  12%|\u001b[32m\u001b[m|  120/1000 [04:22<32:00, 0.46 listings/s]\u001b[1;1H\u001b[1;1H\u001b[1;1H\u001b[1;1H\n",
            "[INFO] Processing page index 5: https://www.glassdoor.com/Job/senior-data-scientist-jobs-SRCH_KO0,21_IP5.htm\n",
            "[INFO] Found 30 links in page index 5\n",
            "HTTP Error 504: Gateway Time-out\n",
            "[ERROR] Error occurred in extract_listing, requested url: www.glassdoor.com/partner/jobListing.htm?pos=507&ao=1110586&s=58&guid=0000017cdbb0e62baab6333f4e34e469&src=GD_JOB_AD&t=SR&vt=w&ea=1&cs=1_1751b1e7&cb=1635773376705&jobListingId=1007049695147&cpc=3B453408E5782294&jrtk=3-0-1fjdr1piuu47u801-1fjdr1pjsu1hq800-990cebe7dd231d49--6NYlbfkN0DcMuZzHHEahN1U-pcjcUX7MB-hoCyHQ6sY6zs922q6c1wBNfpoUaj7L9GEL-8PGxUW4QNYxyhHQkYO1PdaH6KIHDq2wAG0D3Sj5JACZRwdbY3UqpsCszpfZoYkUyqzHeEcW4jM4EKLxRQqCkbu8HymPRP7KZ_Rooqz5gZBp2XgFFoSsV2aM3m9yMmqirDuhJ5O51mnWnJJJHThJHgeh5h1TwJuNL3QKetH1-N2iMAdRRXulCe8uyMatfqN3sOmog7UBklcjJ4mH2_Cf7ffbh3-eo-76WE5_MP7BwIQjn-uf24M2RzTZrhdbbnPblw6TCqYsaPm2p3h_Msu-Quy1ejSH6FWRqxegEBVD5-FTFhCkCZnJYgiSG-12xGQ1q8apXoFz3caAw9hmivVCSssCyKuKBBKXw5V1jvxOHBMTzRUY-fnY_LWj1FGCt8tO1RI8ZDUo0hrfv0LTwy0Jgjrp2gSE-GeubQPix6yMn7m78Jz0vTmtYikFkSG is unavailable.\n",
            "\u001b[KListings scraped from page 100%|\u001b[34m\u001b[m| 30/30 [01:49<00:00, 0.28 listings/s]\u001b[1;1H\u001b[1;1H[INFO] Finished processing page index 5; Total number of jobs processed: 150\n",
            "\u001b[KTotal progress  15%|\u001b[32m\u001b[m|  150/1000 [06:16<35:28, 0.40 listings/s]\u001b[1;1H\u001b[1;1H\u001b[1;1H\u001b[1;1H\n",
            "[INFO] Processing page index 6: https://www.glassdoor.com/Job/senior-data-scientist-jobs-SRCH_KO0,21_IP6.htm\n",
            "[INFO] Found 30 links in page index 6\n",
            "\u001b[KListings scraped from page  73%|\u001b[34m\u001b[m| 22/30 [00:46<00:17, 0.48 listings/s]\u001b[1;1H\u001b[1;1HHTTP Error 504: Gateway Time-out\n",
            "[ERROR] Error occurred in extract_listing, requested url: www.glassdoor.com/partner/jobListing.htm?pos=609&ao=1110586&s=58&guid=0000017cdbb2b593a945d4ba71ba78a2&src=GD_JOB_AD&t=SR&vt=w&ea=1&cs=1_45d3a113&cb=1635773495467&jobListingId=1007381692284&cpc=BBD63848FB84346C&jrtk=3-0-1fjdr5djmu47u801-1fjdr5dkcu1rj800-ed58c3341622dc21--6NYlbfkN0CiRNM7CVr8YueLFKlzwbFWI0o7IjV438l4sVrvKZ0flkywQJjHRBleObb6D711Mbl2rwUlMeNYcTtYkVxaLG_wk8Mh5nCcbS2lR8FO9_krByxeN0cyjrPA9cg46Aq8Ya-5b1G-fvIppp73qvfGroyNkW5VnJW0ueU75twXSYNwI4IoO18TEcftB-1Cubv7S-yZdP9pFew0WRKcuNepv4mP3TNQw5aA5FLxShZvZK_1efUy0VrL04wV2Rnmk5BbM9yZwG65hUMMMNN0sfPV4jT8A3yt_2EyDwHK0z3FbtrEW5Qo3SMBC44mRdC82Ky9giIX7IsDltuVAkPqniYUyaD5wLxgb4A9rHf-sn_FjASPoV6pkrNUCgvIdL_oaACvDdJdQzsIuaf385qnQzfvy9D_61MKBY7QQ6U6rZ2NkZPksLEnWtyqTwZoFeqzQCeX4sO7XW_G7qUnNpfDsEynPIxBJlyEbXKZ90SBvZPtDz20LQUWRidQCARRXLgImriKPVDHILuGcr5R3g%3D%3D is unavailable.\n",
            "\u001b[KListings scraped from page 100%|\u001b[34m\u001b[m| 30/30 [01:56<00:00, 0.26 listings/s]\u001b[1;1H\u001b[1;1H[INFO] Finished processing page index 6; Total number of jobs processed: 180\n",
            "\u001b[KTotal progress  18%|\u001b[32m\u001b[m|  180/1000 [08:22<38:06, 0.36 listings/s]\u001b[1;1H\u001b[1;1H\u001b[1;1H\u001b[1;1H\n",
            "[INFO] Processing page index 7: https://www.glassdoor.com/Job/senior-data-scientist-jobs-SRCH_KO0,21_IP7.htm\n",
            "[INFO] Found 30 links in page index 7\n",
            "\u001b[KListings scraped from page 100%|\u001b[34m\u001b[m| 30/30 [00:48<00:00, 0.62 listings/s]\u001b[1;1H\u001b[1;1H[INFO] Finished processing page index 7; Total number of jobs processed: 210\n",
            "\u001b[KTotal progress  21%|\u001b[32m\u001b[m|  210/1000 [09:14<34:46, 0.38 listings/s]\u001b[1;1H\u001b[1;1H\u001b[1;1H\u001b[1;1H\n",
            "[INFO] Processing page index 8: https://www.glassdoor.com/Job/senior-data-scientist-jobs-SRCH_KO0,21_IP8.htm\n",
            "[INFO] Found 30 links in page index 8\n",
            "\u001b[KListings scraped from page 100%|\u001b[34m\u001b[m| 30/30 [00:49<00:00, 0.62 listings/s]\u001b[1;1H\u001b[1;1H[INFO] Finished processing page index 8; Total number of jobs processed: 240\n",
            "\u001b[KTotal progress  24%|\u001b[32m\u001b[m|  240/1000 [10:08<32:05, 0.39 listings/s]\u001b[1;1H\u001b[1;1H\u001b[1;1H\u001b[1;1H\n",
            "[INFO] Processing page index 9: https://www.glassdoor.com/Job/senior-data-scientist-jobs-SRCH_KO0,21_IP9.htm\n",
            "[INFO] Found 30 links in page index 9\n",
            "\u001b[KListings scraped from page 100%|\u001b[34m\u001b[m| 30/30 [00:41<00:00, 0.73 listings/s]\u001b[1;1H\u001b[1;1H[INFO] Finished processing page index 9; Total number of jobs processed: 270\n",
            "\u001b[KTotal progress  27%|\u001b[32m\u001b[m|  270/1000 [10:54<29:27, 0.41 listings/s]\u001b[1;1H\u001b[1;1H\u001b[1;1H\u001b[1;1H\n",
            "[INFO] Processing page index 10: https://www.glassdoor.com/Job/senior-data-scientist-jobs-SRCH_KO0,21_IP10.htm\n",
            "[INFO] Found 30 links in page index 10\n",
            "\u001b[KListings scraped from page 100%|\u001b[34m\u001b[m| 30/30 [01:04<00:00, 0.47 listings/s]\u001b[1;1H\u001b[1;1H[INFO] Finished processing page index 10; Total number of jobs processed: 300\n",
            "\u001b[KTotal progress  30%|\u001b[32m\u001b[m|  300/1000 [12:02<28:06, 0.42 listings/s]\u001b[1;1H\u001b[1;1H\u001b[1;1H\u001b[1;1H\n",
            "[INFO] Processing page index 11: https://www.glassdoor.com/Job/senior-data-scientist-jobs-SRCH_KO0,21_IP11.htm\n",
            "[INFO] Found 30 links in page index 11\n",
            "\u001b[KListings scraped from page 100%|\u001b[34m\u001b[m| 30/30 [00:43<00:00, 0.70 listings/s]\u001b[1;1H\u001b[1;1H[INFO] Finished processing page index 11; Total number of jobs processed: 330\n",
            "\u001b[KTotal progress  33%|\u001b[32m\u001b[m|  330/1000 [12:50<26:03, 0.43 listings/s]\u001b[1;1H\u001b[1;1H\u001b[1;1H\u001b[1;1H\n",
            "[INFO] Processing page index 12: https://www.glassdoor.com/Job/senior-data-scientist-jobs-SRCH_KO0,21_IP12.htm\n",
            "[INFO] Found 30 links in page index 12\n",
            "\u001b[KListings scraped from page 100%|\u001b[34m\u001b[m| 30/30 [00:46<00:00, 0.65 listings/s]\u001b[1;1H\u001b[1;1H[INFO] Finished processing page index 12; Total number of jobs processed: 360\n",
            "\u001b[KTotal progress  36%|\u001b[32m\u001b[m|  360/1000 [13:41<24:19, 0.44 listings/s]\u001b[1;1H\u001b[1;1H\u001b[1;1H\u001b[1;1H\n",
            "[INFO] Processing page index 13: https://www.glassdoor.com/Job/senior-data-scientist-jobs-SRCH_KO0,21_IP13.htm\n",
            "[INFO] Found 30 links in page index 13\n",
            "\u001b[KListings scraped from page 100%|\u001b[34m\u001b[m| 30/30 [00:37<00:00, 0.80 listings/s]\u001b[1;1H\u001b[1;1H[INFO] Finished processing page index 13; Total number of jobs processed: 390\n",
            "\u001b[KTotal progress  39%|\u001b[32m\u001b[m|  390/1000 [14:22<22:29, 0.45 listings/s]\u001b[1;1H\u001b[1;1H\u001b[1;1H\u001b[1;1H\n",
            "[INFO] Processing page index 14: https://www.glassdoor.com/Job/senior-data-scientist-jobs-SRCH_KO0,21_IP14.htm\n",
            "[INFO] Found 30 links in page index 14\n",
            "\u001b[KListings scraped from page 100%|\u001b[34m\u001b[m| 30/30 [00:38<00:00, 0.79 listings/s]\u001b[1;1H\u001b[1;1H[INFO] Finished processing page index 14; Total number of jobs processed: 420\n",
            "\u001b[KTotal progress  42%|\u001b[32m\u001b[m|  420/1000 [15:05<20:50, 0.46 listings/s]\u001b[1;1H\u001b[1;1H\u001b[1;1H\u001b[1;1H\n",
            "[INFO] Processing page index 15: https://www.glassdoor.com/Job/senior-data-scientist-jobs-SRCH_KO0,21_IP15.htm\n",
            "[INFO] Found 30 links in page index 15\n",
            "\u001b[KListings scraped from page   7%|\u001b[34m\u001b[m|  2/30 [00:06<01:18, 0.36 listings/s]\u001b[1;1H\u001b[1;1HHTTP Error 504: Gateway Time-out\n",
            "[ERROR] Error occurred in extract_listing, requested url: www.glassdoor.com/partner/jobListing.htm?pos=1514&ao=1110586&s=58&guid=0000017cdbbab5978a567adf5c076483&src=GD_JOB_AD&t=SR&vt=w&ea=1&cs=1_2378784a&cb=1635774019516&jobListingId=1007380690212&cpc=0C139D4CAD5A6DB2&jrtk=3-0-1fjdrlde23oh7001-1fjdrldequ1i4800-7dd55ab466f0b313--6NYlbfkN0CZG0lLZJkRtdemqH0bvUe-MXVZaTrxZBBO7u8r8HpNriIN21YFuXHrdU4Fq91pbL9AfX4m9aj-4w21ytktwFL21QinvNJfR0m2wjzAmLvsgb0Q6_PEAJQW-gLEwlpVpcMm3QmH0IjgyleAILu9SxuENSMFs9D3c3fuAwfbS27BjtjEeLebYXoBWeVDLHopf3x7xB-iVIStTNe3CyKMrIlswf71_H-5QpUuCmbEYJB7LO2eOKL1ysjOxYXTtV53srpZgrnt3qKvbT5a_2J6hEiaFF6mbhuE5AtifLjp4-l7_hYYg0dHmYXULCHdD3PARpmihGy5MvBDJnVYXHehR0xK2za0xUw-3fhu8OGtgbU9rD_4nI51TjYg3jJdn2t_nX988khosYGA3BAwOqkF2o7qbzOqtMYAlLil1jaW-Dcl61dhZuhzOt2SMh3BKzDp70RIrRDcJZFC85ohveqjCfx89h2fyXck7xth0xVoA5zc9t-cVi3WCdm- is unavailable.\n",
            "\u001b[KListings scraped from page 100%|\u001b[34m\u001b[m| 30/30 [01:51<00:00, 0.27 listings/s]\u001b[1;1H\u001b[1;1H[INFO] Finished processing page index 15; Total number of jobs processed: 450\n",
            "\u001b[KTotal progress  45%|\u001b[32m\u001b[m|  450/1000 [17:01<20:48, 0.44 listings/s]\u001b[1;1H\u001b[1;1H\u001b[1;1H\u001b[1;1H\n",
            "[INFO] Processing page index 16: https://www.glassdoor.com/Job/senior-data-scientist-jobs-SRCH_KO0,21_IP16.htm\n",
            "[INFO] Found 30 links in page index 16\n",
            "\u001b[KListings scraped from page 100%|\u001b[34m\u001b[m| 30/30 [00:40<00:00, 0.74 listings/s]\u001b[1;1H\u001b[1;1H[INFO] Finished processing page index 16; Total number of jobs processed: 480\n",
            "\u001b[KTotal progress  48%|\u001b[32m\u001b[m|  480/1000 [17:46<19:15, 0.45 listings/s]\u001b[1;1H\u001b[1;1H\u001b[1;1H\u001b[1;1H\n",
            "[INFO] Processing page index 17: https://www.glassdoor.com/Job/senior-data-scientist-jobs-SRCH_KO0,21_IP17.htm\n",
            "[INFO] Found 30 links in page index 17\n",
            "\u001b[KListings scraped from page 100%|\u001b[34m\u001b[m| 30/30 [00:55<00:00, 0.55 listings/s]\u001b[1;1H\u001b[1;1H[INFO] Finished processing page index 17; Total number of jobs processed: 510\n",
            "\u001b[KTotal progress  51%|\u001b[32m\u001b[m|  510/1000 [18:45<18:01, 0.45 listings/s]\u001b[1;1H\u001b[1;1H\u001b[1;1H\u001b[1;1H\n",
            "[INFO] Processing page index 18: https://www.glassdoor.com/Job/senior-data-scientist-jobs-SRCH_KO0,21_IP18.htm\n",
            "[INFO] Found 30 links in page index 18\n",
            "\u001b[KListings scraped from page 100%|\u001b[34m\u001b[m| 30/30 [00:40<00:00, 0.76 listings/s]\u001b[1;1H\u001b[1;1H[INFO] Finished processing page index 18; Total number of jobs processed: 540\n",
            "\u001b[KTotal progress  54%|\u001b[32m\u001b[m|  540/1000 [19:29<16:36, 0.46 listings/s]\u001b[1;1H\u001b[1;1H\u001b[1;1H\u001b[1;1H\n",
            "[INFO] Processing page index 19: https://www.glassdoor.com/Job/senior-data-scientist-jobs-SRCH_KO0,21_IP19.htm\n",
            "[INFO] Found 30 links in page index 19\n",
            "\u001b[KListings scraped from page 100%|\u001b[34m\u001b[m| 30/30 [00:40<00:00, 0.75 listings/s]\u001b[1;1H\u001b[1;1H[INFO] Finished processing page index 19; Total number of jobs processed: 570\n",
            "\u001b[KTotal progress  57%|\u001b[32m\u001b[m|  570/1000 [20:14<15:16, 0.47 listings/s]\u001b[1;1H\u001b[1;1H\u001b[1;1H\u001b[1;1H\n",
            "[INFO] Processing page index 20: https://www.glassdoor.com/Job/senior-data-scientist-jobs-SRCH_KO0,21_IP20.htm\n",
            "[INFO] Found 30 links in page index 20\n",
            "\u001b[KListings scraped from page 100%|\u001b[34m\u001b[m| 30/30 [00:43<00:00, 0.69 listings/s]\u001b[1;1H\u001b[1;1H[INFO] Finished processing page index 20; Total number of jobs processed: 600\n",
            "\u001b[KTotal progress  60%|\u001b[32m\u001b[m|  600/1000 [21:02<14:01, 0.48 listings/s]\u001b[1;1H\u001b[1;1H\u001b[1;1H\u001b[1;1H\n",
            "[INFO] Processing page index 21: https://www.glassdoor.com/Job/senior-data-scientist-jobs-SRCH_KO0,21_IP21.htm\n",
            "[INFO] Found 30 links in page index 21\n",
            "\u001b[KListings scraped from page 100%|\u001b[34m\u001b[m| 30/30 [00:36<00:00, 0.83 listings/s]\u001b[1;1H\u001b[1;1H[INFO] Finished processing page index 21; Total number of jobs processed: 630\n",
            "\u001b[KTotal progress  63%|\u001b[32m\u001b[m|  630/1000 [21:42<12:45, 0.48 listings/s]\u001b[1;1H\u001b[1;1H\u001b[1;1H\u001b[1;1H\n",
            "[INFO] Processing page index 22: https://www.glassdoor.com/Job/senior-data-scientist-jobs-SRCH_KO0,21_IP22.htm\n",
            "[INFO] Found 30 links in page index 22\n",
            "\u001b[KListings scraped from page 100%|\u001b[34m\u001b[m| 30/30 [00:40<00:00, 0.75 listings/s]\u001b[1;1H\u001b[1;1H[INFO] Finished processing page index 22; Total number of jobs processed: 660\n",
            "\u001b[KTotal progress  66%|\u001b[32m\u001b[m|  660/1000 [22:27<11:34, 0.49 listings/s]\u001b[1;1H\u001b[1;1H\u001b[1;1H\u001b[1;1H\n",
            "[INFO] Processing page index 23: https://www.glassdoor.com/Job/senior-data-scientist-jobs-SRCH_KO0,21_IP23.htm\n",
            "[INFO] Found 30 links in page index 23\n",
            "\u001b[KListings scraped from page 100%|\u001b[34m\u001b[m| 30/30 [00:40<00:00, 0.74 listings/s]\u001b[1;1H\u001b[1;1H[INFO] Finished processing page index 23; Total number of jobs processed: 690\n",
            "\u001b[KTotal progress  69%|\u001b[32m\u001b[m|  690/1000 [23:12<10:25, 0.50 listings/s]\u001b[1;1H\u001b[1;1H\u001b[1;1H\u001b[1;1H\n",
            "[INFO] Processing page index 24: https://www.glassdoor.com/Job/senior-data-scientist-jobs-SRCH_KO0,21_IP24.htm\n",
            "[INFO] Found 30 links in page index 24\n",
            "\u001b[KListings scraped from page 100%|\u001b[34m\u001b[m| 30/30 [00:42<00:00, 0.72 listings/s]\u001b[1;1H\u001b[1;1H[INFO] Finished processing page index 24; Total number of jobs processed: 720\n",
            "\u001b[KTotal progress  72%|\u001b[32m\u001b[m|  720/1000 [23:58<09:19, 0.50 listings/s]\u001b[1;1H\u001b[1;1H\u001b[1;1H\u001b[1;1H\n",
            "[INFO] Processing page index 25: https://www.glassdoor.com/Job/senior-data-scientist-jobs-SRCH_KO0,21_IP25.htm\n",
            "[INFO] Found 30 links in page index 25\n",
            "\u001b[KListings scraped from page  33%|\u001b[34m\u001b[m| 10/30 [00:15<00:31, 0.65 listings/s]\u001b[1;1H\u001b[1;1HHTTP Error 504: Gateway Time-out\n",
            "[ERROR] Error occurred in extract_listing, requested url: www.glassdoor.com/partner/jobListing.htm?pos=2520&ao=1110586&s=58&guid=0000017cdbc2d9c5aabd96588221b1df&src=GD_JOB_AD&t=SR&vt=w&cs=1_6545b6e9&cb=1635774553417&jobListingId=1007312332864&cpc=6193B0C32834B022&jrtk=3-0-1fjds5mm2u4t1801-1fjds5mn9u1hq800-243305a083e09ca8--6NYlbfkN0B4_0cAWFLdWJFCnfZ83J9k0zAsYiOS3g-P-TO-MQuKexGkGJX-Hk-lOBPSN4pqZRkL0itTGb-J4Jbraj81VJlkGgEQlcul1TixpPRGlL05MkvtTDw4p3jOTZlyC3yY58ZKqmDZ1bvgk3evlcXuz3exm0wGFlIM_yrvTPwKtrYEaO-b8n7rc6z5SHWzHpqTYb5ou4AzS232C14pnkYzQXSZJxJDLJn8ODST8G7au-LZhRv_ZLrXUCLFFiuVTDqKQvgiF692XJ4gwDuWxxakxvRaDh7_UvZnjocPf3e2uScXHzMXXSxgCcNcm2lQUEocuNRfD56sC-zxt9Y-tv5TXE22dEubRed-9rzq5WTtSOVfpNXnZxa7MuS19GaKz6_dQM19zitAu6EhkuoLfdS_K4ISFkocqwrRM6gI6OMnIO7FErErkpDpd2BGBiZKmjBLQsSvNeqiaRX9RpEBXrIl26wC9AqnDvuFIasb_ECUKLowHMHPweuxcstHYxFgyh-AEFuvZRUMshEHKQ%3D%3D is unavailable.\n",
            "\u001b[KListings scraped from page 100%|\u001b[34m\u001b[m| 30/30 [01:42<00:00, 0.29 listings/s]\u001b[1;1H\u001b[1;1H[INFO] Finished processing page index 25; Total number of jobs processed: 750\n",
            "\u001b[KTotal progress  75%|\u001b[32m\u001b[m|  750/1000 [25:45<08:35, 0.49 listings/s]\u001b[1;1H\u001b[1;1H\u001b[1;1H\u001b[1;1H\n",
            "[INFO] Processing page index 26: https://www.glassdoor.com/Job/senior-data-scientist-jobs-SRCH_KO0,21_IP26.htm\n",
            "[INFO] Found 30 links in page index 26\n",
            "\u001b[KListings scraped from page 100%|\u001b[34m\u001b[m| 30/30 [00:46<00:00, 0.65 listings/s]\u001b[1;1H\u001b[1;1H[INFO] Finished processing page index 26; Total number of jobs processed: 780\n",
            "\u001b[KTotal progress  78%|\u001b[32m\u001b[m|  780/1000 [26:36<07:30, 0.49 listings/s]\u001b[1;1H\u001b[1;1H\u001b[1;1H\u001b[1;1H\n",
            "[INFO] Processing page index 27: https://www.glassdoor.com/Job/senior-data-scientist-jobs-SRCH_KO0,21_IP27.htm\n",
            "[INFO] Found 30 links in page index 27\n",
            "\u001b[KListings scraped from page 100%|\u001b[34m\u001b[m| 30/30 [00:43<00:00, 0.70 listings/s]\u001b[1;1H\u001b[1;1H[INFO] Finished processing page index 27; Total number of jobs processed: 810\n",
            "\u001b[KTotal progress  81%|\u001b[32m\u001b[m|  810/1000 [27:23<06:25, 0.49 listings/s]\u001b[1;1H\u001b[1;1H\u001b[1;1H\u001b[1;1H\n",
            "[INFO] Processing page index 28: https://www.glassdoor.com/Job/senior-data-scientist-jobs-SRCH_KO0,21_IP28.htm\n",
            "[INFO] Found 30 links in page index 28\n",
            "\u001b[KListings scraped from page 100%|\u001b[34m\u001b[m| 30/30 [00:38<00:00, 0.79 listings/s]\u001b[1;1H\u001b[1;1H[INFO] Finished processing page index 28; Total number of jobs processed: 840\n",
            "\u001b[KTotal progress  84%|\u001b[32m\u001b[m|  840/1000 [28:06<05:21, 0.50 listings/s]\u001b[1;1H\u001b[1;1H\u001b[1;1H\u001b[1;1H\n",
            "[INFO] Processing page index 29: https://www.glassdoor.com/Job/senior-data-scientist-jobs-SRCH_KO0,21_IP29.htm\n",
            "[INFO] Found 30 links in page index 29\n",
            "\u001b[KListings scraped from page 100%|\u001b[34m\u001b[m| 30/30 [00:41<00:00, 0.72 listings/s]\u001b[1;1H\u001b[1;1H[INFO] Finished processing page index 29; Total number of jobs processed: 870\n",
            "\u001b[KTotal progress  87%|\u001b[32m\u001b[m|  870/1000 [28:52<04:19, 0.50 listings/s]\u001b[1;1H\u001b[1;1H\u001b[1;1H\u001b[1;1H\n",
            "[INFO] Processing page index 30: https://www.glassdoor.com/Job/senior-data-scientist-jobs-SRCH_KO0,21_IP30.htm\n",
            "[INFO] Found 30 links in page index 30\n",
            "\u001b[KListings scraped from page 100%|\u001b[34m\u001b[m| 30/30 [00:45<00:00, 0.67 listings/s]\u001b[1;1H\u001b[1;1H[INFO] Finished processing page index 30; Total number of jobs processed: 900\n",
            "\u001b[KTotal progress  90%|\u001b[32m\u001b[m|  900/1000 [29:41<03:18, 0.51 listings/s]\u001b[1;1H\u001b[1;1HHTTP Error 404: Not Found\n",
            "Traceback (most recent call last):\n",
            "  File \"/content/glassdoor-scraper/src/main.py\", line 85, in <module>\n",
            "    page_soup,_ = requestAndParse(new_url)\n",
            "TypeError: cannot unpack non-iterable NoneType object\n",
            "\u001b[1;0r\u001b[1;1H\n"
          ]
        }
      ]
    }
  ]
}